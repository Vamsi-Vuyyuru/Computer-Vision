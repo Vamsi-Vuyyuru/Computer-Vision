{
 "cells": [
  {
   "cell_type": "markdown",
   "id": "12190d53",
   "metadata": {
    "id": "12190d53"
   },
   "source": [
    "<img src=\"https://github.com/insaid2018/Term-1/blob/master/Images/INSAID_Full%20Logo.png?raw=true\" width=\"240\" height=\"360\" />"
   ]
  },
  {
   "cell_type": "markdown",
   "id": "f127f3cc",
   "metadata": {
    "id": "f127f3cc"
   },
   "source": [
    "# <center>AUTOBOX Face Recognition System</center> \n",
    "### <center>CV Capstone Project (1003)</center>"
   ]
  },
  {
   "cell_type": "markdown",
   "id": "d0b7de86",
   "metadata": {
    "id": "d0b7de86"
   },
   "source": [
    "## Table of Contents\n",
    " \n",
    "1. [Problem Statement](#section1)</br>\n",
    "    - 1.1 [Project Description](#section101)<br/>\n",
    "    - 1.2 [Consulting Goal](#section102)<br/>\n",
    "    - 1.3 [Data Description](#section103)<br/>\n",
    "<br>\n",
    "\n",
    "2. [Observations from Dataset (Week-1)](#section2)</br>\n",
    "    - 2.1 [Importing Packages](#section201)<br/>\n",
    "    - 2.2 [Observations](#section202)<br/>\n",
    "    \n",
    "<br>\n",
    "\n",
    "3. [Extracting Faces from the Images using MTCNN (Week-2)](#section3)</br>\n",
    "    - 3.1 [Function for extracting face from a single image](#section301)<br/>\n",
    "    - 3.2 [Function for extracting faces from all the images under one celebrity folder](#section302)<br/>\n",
    "    - 3.3 [Function for extracting faces from all the images under all the celebrities folders](#section303)<br/>\n",
    "    - 3.4 [Extracting faces from Train and Val Images](#section304)<br/>\n",
    "    - 3.5 [Saving the extracted faces](#section305)<br/>\n",
    "  \n",
    "<br>\n",
    "\n",
    "4. [Extracting Emedding vectors from the extracted faces using FaceNet Model (Week-3)\n",
    "](#section4)</br>\n",
    "    - 4.1 [Loading the extracted faces](#section401)<br/>\n",
    "    - 4.2 [oading FaceNet Model](#section402)<br/>\n",
    "    - 4.3 [Function for extracting embedding vector for one face](#section403)<br/>\n",
    "    - 4.4 [Function for Extracting Embedding vectors for all the faces](#section404)<br/>\n",
    "    - 4.5 [Extracting Embedding vectors for Train and Val data](#section405)<br/>\n",
    "    - 4.6 [Saving Embedding Vectors](#section406)<br/>\n",
    "\n",
    "<br>\n",
    "\n",
    "5. [Preprocessing and predictions on extracted Embedding Vectors\n",
    "](#section5)</br>\n",
    "    - 5.1 [Loading the embedding vectors](#section501)<br/>\n",
    "    - 5.2 [Preprocessing: Normalizing and Label Encoding](#section501)<br/>\n",
    "    - 5.3 [Predictions with SVClassifier](#section503)<br/>\n",
    "    - 5.4 [Metrics](#section504)<br/>\n",
    "\n",
    "<br>\n",
    "\n",
    "6. [Predictions on Test Data](#section6)</br>\n",
    "    - 6.1 [Preparation and Input of test images to trained model](#section601)<br/>\n",
    "    - 6.2 [Submission File](#section602)<br/>\n",
    "\n",
    "<br>\n",
    "\n",
    "7. [Conclusion](#section7)</br>\n",
    "    \n",
    "<br>\n"
   ]
  },
  {
   "cell_type": "markdown",
   "id": "cb0d64ae",
   "metadata": {
    "id": "cb0d64ae"
   },
   "source": [
    "<a id=section1></a>\n",
    "## 1. Problem Statement"
   ]
  },
  {
   "cell_type": "markdown",
   "id": "7546eed9",
   "metadata": {
    "id": "7546eed9"
   },
   "source": [
    "<a id=section101></a>\n",
    "### 1.1 Project Description\n",
    "\n",
    "The client for this project is the Administration Department at AutoBox having over a thousand employees.\n",
    "\n",
    "- They want to maintain a central database of all of their employees. \n",
    "- And, extra emphasis is on increasing security and ease of operation.\n",
    "- The idea is to create a web-based app for Facial Recognition in order to have rightful entry to the office premises and restrict any trespassers.\n",
    "- Once the employees are identified on a daily basis, they can have a simple entry and exit procedure without any manual intervention.\n",
    "- They want to deal with their existing employee’s database and those coming in as a new recruit.\n",
    "\n",
    "Current Practice:\n",
    "- The existing employees or the ones joining the Company gets a card having a QR(RFID) code with unique identification for entry and exit.\n",
    "\n",
    "\n",
    "The current practice suffers from the following problems:\n",
    "- This approach is too haphazard. The quality of insight gained is misaligned due to misleading data.\n",
    "- The second problem is these insights can't be aggregated to frame certain policies on this.\n",
    "- The third problem is the security breach of the Company, which can hamper the situation very badly.\n",
    "\n",
    "The Admin Department has hired you as an AI Engineer. They want to supplement their security protocols with a more proactive approach."
   ]
  },
  {
   "cell_type": "markdown",
   "id": "f7b423cc",
   "metadata": {
    "id": "f7b423cc"
   },
   "source": [
    "<a id=section102></a>\n",
    "### 1.2 Project Goal\n",
    "\n",
    "#### Our Role\n",
    "- You will be provided with a dataset consisting of images of various celebrities.\n",
    "- You should also add your images to the data. The procedure for adding your images is mentioned in Week - 1 mailer.\n",
    "- Then you have to build a face recognition model using the Image data from the database provided above.\n",
    "- The model should be able to detect faces from images and recognize the person present in the image.\n",
    "- The recognized person will then be authorized to enter or exit the company premises.\n",
    "\n",
    "#### Problem Specificied\n",
    "- Deliverable: Predict whether the person will be allowed entry or exit into the company premises.\n",
    "- Deep Learning task: Build a Face Recognition model using FaceNet\n",
    "- Target: Predict the name of the person in the image.\n",
    "- Win condition: The model should be able to recognize the person present in the images, and if the model hasn’t seen a person before, it should output a message suggesting that this person is not found in the database and entry is restricted, and label it as Unidentified in the submission file."
   ]
  },
  {
   "cell_type": "markdown",
   "id": "ba892dca",
   "metadata": {
    "id": "ba892dca"
   },
   "source": [
    "<a id=section103></a>\n",
    "### 1.2 Project Description\n",
    "\n",
    "\n",
    "The Business Intelligence Analysts of the Company provided you with a dataset that contains images of different celebrities.\n",
    "\n",
    "The dataset is divided into three parts: train, val, and test set.\n",
    "Each image in the dataset is a .jpg colored image.\n",
    "\n",
    "#### train and val:\n",
    "- The train and val sets contain images of 15 different celebrities.\n",
    "The images are present in 15 different sub-directories in both folders.\n",
    "- These sub-directories are named after the celebrity they contain the images of where the first name and the last name of the celeb is separated by an underscore ‘_’ for example Arnold_Schwarzenegger.\n",
    "- There are more than 10 images of each celebrity in the train set.\n",
    "- There are 5 images of each celebrity in the val set.\n",
    "- Each image in the sub-directory of both the train and val set is named in such a way that they first contain the name of the sub-directory and then a number separated by an underscore ‘_’ for example Arnold_Schwarzenegger_0001.jpg\n",
    "\n",
    "#### test:\n",
    "- The test set contains 22 different images.\n",
    "- These images are named from 1 to 22.\n",
    "- A sample submission csv file named sample_submission.csv is also provided with the test set.\n",
    "- This sample submission file contains the format of the final predictions submission csv file that you need to upload via the Upload Submission tab.\n"
   ]
  },
  {
   "cell_type": "code",
   "execution_count": 1,
   "id": "6UNDRrm_m_4C",
   "metadata": {
    "colab": {
     "base_uri": "https://localhost:8080/"
    },
    "id": "6UNDRrm_m_4C",
    "outputId": "bfe38805-858c-48f0-9ba4-975c737b728b"
   },
   "outputs": [
    {
     "name": "stdout",
     "output_type": "stream",
     "text": [
      "Requirement already satisfied: mtcnn in /opt/anaconda3/lib/python3.9/site-packages (0.1.1)\n",
      "Requirement already satisfied: opencv-python>=4.1.0 in /opt/anaconda3/lib/python3.9/site-packages (from mtcnn) (4.5.5.62)\n",
      "Requirement already satisfied: keras>=2.0.0 in /opt/anaconda3/lib/python3.9/site-packages (from mtcnn) (2.6.0)\n",
      "Requirement already satisfied: numpy>=1.17.3 in /opt/anaconda3/lib/python3.9/site-packages (from opencv-python>=4.1.0->mtcnn) (1.19.5)\n",
      "Note: you may need to restart the kernel to use updated packages.\n"
     ]
    }
   ],
   "source": [
    "pip install mtcnn"
   ]
  },
  {
   "cell_type": "markdown",
   "id": "91fba54c",
   "metadata": {
    "id": "91fba54c"
   },
   "source": [
    "<a id=section2></a>\n",
    "## 2. Observations from data (Week-1)"
   ]
  },
  {
   "cell_type": "markdown",
   "id": "313a18ac",
   "metadata": {
    "id": "313a18ac"
   },
   "source": [
    "<a id=section201></a>\n",
    "### 2.1 Installing Dependencies"
   ]
  },
  {
   "cell_type": "code",
   "execution_count": 4,
   "id": "9a29b785",
   "metadata": {
    "colab": {
     "base_uri": "https://localhost:8080/"
    },
    "id": "9a29b785",
    "outputId": "151689a0-4843-43ad-c6c8-c3290dc34f92"
   },
   "outputs": [
    {
     "name": "stdout",
     "output_type": "stream",
     "text": [
      "['Celebrity-embeddings.npz', '.DS_Store', 'test', 'facenet_keras.h5', 'Final_Submission_1.csv', 'Capstone_Project_CV_(1003)_Final.ipynb', '.ipynb_checkpoints', 'Celebrity-faces.npz', 'data', '.idea']\n"
     ]
    }
   ],
   "source": [
    "import pandas as pd\n",
    "import numpy as np\n",
    "\n",
    "# Importing CV Libraries\n",
    "import cv2\n",
    "from mtcnn.mtcnn import MTCNN\n",
    "from keras.models import load_model\n",
    "from PIL import Image\n",
    "\n",
    "# Importing preprocessing libraries\n",
    "from sklearn.preprocessing import LabelEncoder, Normalizer\n",
    "\n",
    "\n",
    "# Importing Models for prediction\n",
    "from sklearn.svm import SVC\n",
    "\n",
    "# Metrics\n",
    "from sklearn.metrics import accuracy_score\n",
    "\n",
    "#Plotting\n",
    "from matplotlib import pyplot as plt\n",
    "\n",
    "# Importing OS\n",
    "import os\n",
    "print(os.listdir(os.getcwd()))\n",
    "wkdir = os.getcwd()\n"
   ]
  },
  {
   "cell_type": "markdown",
   "id": "q5tio8ezWUOj",
   "metadata": {
    "id": "q5tio8ezWUOj"
   },
   "source": [
    "### 2.2 Observations"
   ]
  },
  {
   "cell_type": "markdown",
   "id": "90f01003",
   "metadata": {
    "id": "90f01003"
   },
   "source": [
    "- Input data dimension is (250, 250, 3).\n",
    "- Each celebrity's pictures are collected in a individual sub-folder with their corresponding name on it.\n",
    "- We can use the folder structure to create X and y by separating the name of sub-folder as Y and pictures in sub-folder as X.\n",
    "- The pictures in dataset has faces of other people and backgound in them. \n",
    "- We have to separate the faces from pictures so that the model can learn the faces without any noise.\n",
    "- As our problem statement is to restrict or allow persons, it is a classification problem.\n",
    "- We can use simple machine learning classifier for classification."
   ]
  },
  {
   "cell_type": "markdown",
   "id": "9577b4b1",
   "metadata": {
    "id": "9577b4b1"
   },
   "source": [
    "<a id=section3></a>\n",
    "## 3. Extracting Faces from the Images using MTCNN (Week-2)\n"
   ]
  },
  {
   "cell_type": "code",
   "execution_count": 15,
   "id": "18c5df78",
   "metadata": {},
   "outputs": [
    {
     "data": {
      "image/png": "[encoded data removed]",
      "text/plain": [
       "<Figure size 432x288 with 1 Axes>"
      ]
     },
     "metadata": {
      "needs_background": "light"
     },
     "output_type": "display_data"
    },
    {
     "name": "stdout",
     "output_type": "stream",
     "text": [
      "(250, 250, 3)\n"
     ]
    }
   ],
   "source": [
    "# View sample image\n",
    "\n",
    "imgg = cv2.imread('data/train/Vladimir_Putin/Vladimir_Putin_0002.jpg')\n",
    "plt.imshow(imgg)\n",
    "plt.show()\n",
    "print(imgg.shape) "
   ]
  },
  {
   "cell_type": "markdown",
   "id": "a2db6e5b",
   "metadata": {},
   "source": [
    "<a id=section301></a>\n",
    "### 3.1 Function for extracting face from a single image"
   ]
  },
  {
   "cell_type": "code",
   "execution_count": 17,
   "id": "9e1d6393",
   "metadata": {
    "id": "9e1d6393"
   },
   "outputs": [],
   "source": [
    "# Function for extracting face from a single image\n",
    "\n",
    "def extract_image_face(imgname):\n",
    "    img = Image.open(imgname)                # Loading Image\n",
    "    pxls = np.asarray(img)                   # Convert Image to array\n",
    "    detector = MTCNN()                       # MTCNN Detector with default weights\n",
    "    result = detector.detect_faces(pxls)     # Detecting faces from the image\n",
    "    x1, y1, width, height = result[0]['box'] # Extracting the boundaries from the image\n",
    "    x1, y1 = abs(x1), abs(y1)                # Handling any negative pixel values\n",
    "    x2, y2 = x1+width, y1+height             # pixel boundaries of face extraction from image\n",
    "    face = pxls[x1:x2,y1:y2]                 # Extracting the face of image\n",
    "    img = Image.fromarray(face)              # Reverting from array to image for resizing as required by FaceNet Model\n",
    "    req_size=(160,160)\n",
    "    img = img.resize(req_size)               # Resizing to (160,160) for FaceNet Model\n",
    "    Exface_array = np.asarray(img)           # Converting image to array\n",
    "    return Exface_array\n"
   ]
  },
  {
   "cell_type": "code",
   "execution_count": 18,
   "id": "d538ebab",
   "metadata": {},
   "outputs": [
    {
     "name": "stderr",
     "output_type": "stream",
     "text": [
      "2022-01-15 18:12:08.261253: I tensorflow/core/platform/cpu_feature_guard.cc:142] This TensorFlow binary is optimized with oneAPI Deep Neural Network Library (oneDNN) to use the following CPU instructions in performance-critical operations:  AVX2 FMA\n",
      "To enable them in other operations, rebuild TensorFlow with the appropriate compiler flags.\n",
      "2022-01-15 18:12:08.798954: I tensorflow/compiler/mlir/mlir_graph_optimization_pass.cc:185] None of the MLIR Optimization Passes are enabled (registered 2)\n"
     ]
    },
    {
     "name": "stdout",
     "output_type": "stream",
     "text": [
      "WARNING:tensorflow:5 out of the last 10 calls to <function Model.make_predict_function.<locals>.predict_function at 0x1506fc160> triggered tf.function retracing. Tracing is expensive and the excessive number of tracings could be due to (1) creating @tf.function repeatedly in a loop, (2) passing tensors with different shapes, (3) passing Python objects instead of tensors. For (1), please define your @tf.function outside of the loop. For (2), @tf.function has experimental_relax_shapes=True option that relaxes argument shapes that can avoid unnecessary retracing. For (3), please refer to https://www.tensorflow.org/guide/function#controlling_retracing and https://www.tensorflow.org/api_docs/python/tf/function for  more details.\n"
     ]
    },
    {
     "data": {
      "image/png": "[encoded data removed]",
      "text/plain": [
       "<Figure size 432x288 with 1 Axes>"
      ]
     },
     "metadata": {
      "needs_background": "light"
     },
     "output_type": "display_data"
    },
    {
     "name": "stdout",
     "output_type": "stream",
     "text": [
      "(160, 160, 3)\n"
     ]
    }
   ],
   "source": [
    "# Extracted face from the abobe shown sample image\n",
    "\n",
    "imgf = extract_image_face('data/train/Vladimir_Putin/Vladimir_Putin_0002.jpg')\n",
    "plt.imshow(imgf)\n",
    "plt.show()\n",
    "print(imgf.shape)   # Shape"
   ]
  },
  {
   "cell_type": "markdown",
   "id": "3bb91246",
   "metadata": {
    "id": "3bb91246"
   },
   "source": [
    "<a id=section302></a>\n",
    "### 3.2 Function for extracting faces from all the images under one celebrity folder"
   ]
  },
  {
   "cell_type": "code",
   "execution_count": 9,
   "id": "0d4ebf03",
   "metadata": {
    "id": "0d4ebf03"
   },
   "outputs": [],
   "source": [
    "# Function for extracting faces from all the images under one celebrity folder\n",
    "\n",
    "def extract_celebrity_faces(path1):\n",
    "    faces = []                            # Creating an empty list for saving extracted faces\n",
    "    for imgname in os.listdir(path1):     # For loop to iterate over all the images inder celebrity folder\n",
    "        path0 = path1 + imgname          \n",
    "        face = extract_image_face(path0)  # Calling the function for extracting face from each image\n",
    "        faces.append(face)                # Appending the extracted face to the faces list created above\n",
    "    return faces\n"
   ]
  },
  {
   "cell_type": "markdown",
   "id": "1d977ff8",
   "metadata": {
    "id": "1d977ff8"
   },
   "source": [
    "<a id=section303></a>\n",
    "### 3.3 Function for extracting faces from all the images under all the celebrities folders"
   ]
  },
  {
   "cell_type": "code",
   "execution_count": 10,
   "id": "4838545a",
   "metadata": {
    "id": "4838545a"
   },
   "outputs": [],
   "source": [
    "# Function for extracting faces from all the images under all the celebrities folders.\n",
    "# This function will load the data, extract the data and returns X and Y.\n",
    "\n",
    "def extract_data_faces(path):\n",
    "    X, Y = [],[]                                           # Creating empty lists for saving faces seperately under X and Y\n",
    "    for celbname in os.listdir(path):                      # For loop to iterate over all the folders('celebrity') under 'data' folder\n",
    "        path1 = path +\"/\" + celbname + \"/\"          \n",
    "        faces = extract_celebrity_faces(path1)             # Calling the function for extracting all the faces under celebrity folder\n",
    "        ylabels = [celbname for i in range(len(faces))]    # Creating labels for Y with that current celebrity name(celbname) in the for loop\n",
    "        print(\"{0} Faces of celebrity: {1} are extracted!\".format(len(faces),celbname))\n",
    "        X.extend(faces)                                    # X is extended with the faces of each celebrity but not append because, all the faces in each for loop is of one celebrity\n",
    "        Y.extend(ylabels)                                  # Y is extended with the labels generated but not append because, all the lablels in each for loop is of one celebrity\n",
    "    return np.asarray(X), np.asarray(Y)                    # Converting X and Y to array for further computation\n"
   ]
  },
  {
   "cell_type": "markdown",
   "id": "1a71a104",
   "metadata": {
    "id": "1a71a104"
   },
   "source": [
    "<a id=section304></a>\n",
    "### 3.4 Extracting faces from Train and Val Images"
   ]
  },
  {
   "cell_type": "code",
   "execution_count": 11,
   "id": "e337e2e8",
   "metadata": {
    "colab": {
     "base_uri": "https://localhost:8080/",
     "height": 34
    },
    "id": "e337e2e8",
    "outputId": "f590f2e5-e4e1-4e45-96c4-e750ebb6f76e"
   },
   "outputs": [
    {
     "data": {
      "application/vnd.google.colaboratory.intrinsic+json": {
       "type": "string"
      },
      "text/plain": [
       "'\\ntrain_path = wkdir +\"/\"+\\'data\\'+\"/\"+\\'train\\'+\"/\"\\nX_train, Y_train = extract_data_faces(train_path)\\n'"
      ]
     },
     "execution_count": 11,
     "metadata": {},
     "output_type": "execute_result"
    }
   ],
   "source": [
    "# Extracting X_train and Y_train from Train Data\n",
    "\n",
    "train_path = wkdir +\"/\"+'data'+\"/\"+'train'+\"/\"\n",
    "X_train, Y_train = extract_data_faces(train_path)\n"
   ]
  },
  {
   "cell_type": "code",
   "execution_count": 12,
   "id": "398ebc52",
   "metadata": {
    "colab": {
     "base_uri": "https://localhost:8080/",
     "height": 34
    },
    "id": "398ebc52",
    "outputId": "382194a5-539b-4c20-beb7-40634eec51c2"
   },
   "outputs": [
    {
     "data": {
      "application/vnd.google.colaboratory.intrinsic+json": {
       "type": "string"
      },
      "text/plain": [
       "'\\nval_path = wkdir +\"/\"+\\'data\\'+\"/\"+\\'val\\'+\"/\"\\nX_val, Y_val = extract_data_faces(val_path)\\n'"
      ]
     },
     "execution_count": 12,
     "metadata": {},
     "output_type": "execute_result"
    }
   ],
   "source": [
    "# Extracting X_val and Y_val from Val Data\n",
    "\n",
    "val_path = wkdir +\"/\"+'data'+\"/\"+'val'+\"/\"\n",
    "X_val, Y_val = extract_data_faces(val_path)\n"
   ]
  },
  {
   "cell_type": "code",
   "execution_count": 13,
   "id": "8e9141f0",
   "metadata": {
    "colab": {
     "base_uri": "https://localhost:8080/",
     "height": 34
    },
    "id": "8e9141f0",
    "outputId": "ed2dc37c-e93b-4c79-e84d-7bd335de663c"
   },
   "outputs": [
    {
     "data": {
      "application/vnd.google.colaboratory.intrinsic+json": {
       "type": "string"
      },
      "text/plain": [
       "'\\nprint(X_train.shape)\\nprint(Y_train.shape)\\nprint(X_val.shape)\\nprint(Y_val.shape)\\n'"
      ]
     },
     "execution_count": 13,
     "metadata": {},
     "output_type": "execute_result"
    }
   ],
   "source": [
    "\n",
    "print(X_train.shape)\n",
    "print(Y_train.shape)\n",
    "print(X_val.shape)\n",
    "print(Y_val.shape)\n"
   ]
  },
  {
   "cell_type": "markdown",
   "id": "e5d102db",
   "metadata": {
    "id": "e5d102db"
   },
   "source": [
    "<a id=section305></a>\n",
    "### 3.5 Saving the extracted faces"
   ]
  },
  {
   "cell_type": "code",
   "execution_count": 14,
   "id": "e059e80a",
   "metadata": {
    "id": "e059e80a"
   },
   "outputs": [],
   "source": [
    "# Saving Faces\n",
    "\n",
    "np.savez_compressed('Celebrity-faces.npz', X_train, Y_train, X_val, Y_val)"
   ]
  },
  {
   "cell_type": "markdown",
   "id": "ec46c06f",
   "metadata": {
    "id": "ec46c06f"
   },
   "source": [
    "<a id=section4></a>\n",
    "## 4. Extracting Emedding vectors from the extracted faces using FaceNet Model (Week-3)\n",
    "\n",
    "<a id=section401></a>\n",
    "### 4.1 Loading the extracted faces"
   ]
  },
  {
   "cell_type": "code",
   "execution_count": 15,
   "id": "0gugFfpBIhe5",
   "metadata": {
    "colab": {
     "base_uri": "https://localhost:8080/"
    },
    "id": "0gugFfpBIhe5",
    "outputId": "955d818c-09b3-46df-aa33-a1300d312080"
   },
   "outputs": [
    {
     "name": "stdout",
     "output_type": "stream",
     "text": [
      "Extracted Faces data has been loaded!\n"
     ]
    }
   ],
   "source": [
    "#Loading the faces that are extracted and saved\n",
    "\n",
    "FData = np.load('Celebrity-faces.npz')\n",
    "X_train, Y_train, X_val, Y_val = FData['arr_0'],FData['arr_1'],FData['arr_2'],FData['arr_3']\n",
    "print('Extracted Faces data has been loaded!')"
   ]
  },
  {
   "cell_type": "markdown",
   "id": "289fd816",
   "metadata": {
    "id": "289fd816"
   },
   "source": [
    "<a id=section402></a>\n",
    "### 4.2 Loading FaceNet Model"
   ]
  },
  {
   "cell_type": "code",
   "execution_count": 16,
   "id": "c04e5961",
   "metadata": {
    "colab": {
     "base_uri": "https://localhost:8080/"
    },
    "id": "c04e5961",
    "outputId": "3618826b-d91c-4b9e-b921-b08823d9d50a"
   },
   "outputs": [
    {
     "name": "stdout",
     "output_type": "stream",
     "text": [
      "WARNING:tensorflow:No training configuration found in the save file, so the model was *not* compiled. Compile it manually.\n",
      "FaceNet model has been loaded!\n"
     ]
    }
   ],
   "source": [
    "# Loading FaceNet Model\n",
    "\n",
    "facenet_model = load_model('facenet_keras.h5')\n",
    "print('FaceNet model has been loaded!')"
   ]
  },
  {
   "cell_type": "markdown",
   "id": "7c7bf378",
   "metadata": {
    "id": "7c7bf378"
   },
   "source": [
    "<a id=section403></a>\n",
    "### 4.3 Function for extracting embedding vector for one face"
   ]
  },
  {
   "cell_type": "code",
   "execution_count": 17,
   "id": "448b03b2",
   "metadata": {
    "id": "448b03b2"
   },
   "outputs": [],
   "source": [
    "# Function for Extracting Embedding Vector for one face using FaceNet Model\n",
    "\n",
    "def extract_face_embedding(face, model):\n",
    "    face = face.astype('float32')               # Converting to float for computation\n",
    "    face = (face-face.mean())/face.std()        # Standardizing the face with mean and std\n",
    "    model_input = np.expand_dims(face, axis=0)  # Expanding dimensions before sending the face for embedding prediction with axis=0\n",
    "    model_output = model.predict(model_input)   # Prediction for input face\n",
    "    return model_output[0]                      # Returning the first predicted Embedding vector\n"
   ]
  },
  {
   "cell_type": "markdown",
   "id": "ca78c6a9",
   "metadata": {
    "id": "ca78c6a9"
   },
   "source": [
    "<a id=section404></a>\n",
    "### 4.4 Function for Extracting Embedding vectors for all the faces"
   ]
  },
  {
   "cell_type": "code",
   "execution_count": 18,
   "id": "j_7PL8xoNHiW",
   "metadata": {
    "id": "j_7PL8xoNHiW"
   },
   "outputs": [],
   "source": [
    "# Function for Extracting Embedding vectors for all the faces\n",
    "\n",
    "def extract_faceS_embeddingS(X_data, model=facenet_model):\n",
    "    emb_X = []                                       # Empty list for holding embedding vectors\n",
    "    for face in X_data:                              # For loop for iterating through all the faces of input data\n",
    "        face_emb = extract_face_embedding(face,model)  # Calling the single face embedding extract function for each face\n",
    "        emb_X.append(face_emb)                         # Appending the embedding to the list created above\n",
    "    return np.asarray(emb_X)                         # Converting to array to make ready for ML predictions\n"
   ]
  },
  {
   "cell_type": "markdown",
   "id": "9e28924c",
   "metadata": {
    "id": "9e28924c"
   },
   "source": [
    "<a id=section405></a>\n",
    "### 4.5 Extracting Embedding vectors for Train and Val data"
   ]
  },
  {
   "cell_type": "code",
   "execution_count": 19,
   "id": "MCJzzqa8Q6aC",
   "metadata": {
    "colab": {
     "base_uri": "https://localhost:8080/",
     "height": 34
    },
    "id": "MCJzzqa8Q6aC",
    "outputId": "835b0fd6-9eea-4a13-ec31-c93b048ccd96"
   },
   "outputs": [
    {
     "data": {
      "application/vnd.google.colaboratory.intrinsic+json": {
       "type": "string"
      },
      "text/plain": [
       "'\\nX_train_emb = extract_faceS_embeddingS(X_train)\\nX_val_emb = extract_faceS_embeddingS(X_val)\\n'"
      ]
     },
     "execution_count": 19,
     "metadata": {},
     "output_type": "execute_result"
    }
   ],
   "source": [
    "# Extracting Embedding vectors for X_Train and X_val\n",
    "\n",
    "X_train_emb = extract_faceS_embeddingS(X_train)\n",
    "X_val_emb = extract_faceS_embeddingS(X_val)\n"
   ]
  },
  {
   "cell_type": "markdown",
   "id": "ecff6dc1",
   "metadata": {
    "id": "ecff6dc1"
   },
   "source": [
    "<a id=section406></a>\n",
    "### 4.6 Saving Embedding Vectors"
   ]
  },
  {
   "cell_type": "code",
   "execution_count": 20,
   "id": "WWBuo3nkTH-R",
   "metadata": {
    "id": "WWBuo3nkTH-R"
   },
   "outputs": [],
   "source": [
    "# Saving Embeddings to one zip file\n",
    "\n",
    "np.savez_compressed('Celebrity-embeddings.npz',X_train_emb, Y_train, X_val_emb, Y_val)"
   ]
  },
  {
   "cell_type": "markdown",
   "id": "3689d661",
   "metadata": {
    "id": "3689d661"
   },
   "source": [
    "<a id=section5></a>\n",
    "## 5. Preprocessing and predictions on extracted Embedding Vectors\n",
    "\n",
    "<a id=section501></a>\n",
    "### 5.1 Loading the embedding vectors"
   ]
  },
  {
   "cell_type": "code",
   "execution_count": 21,
   "id": "5WSwIW_zx84f",
   "metadata": {
    "colab": {
     "base_uri": "https://localhost:8080/"
    },
    "id": "5WSwIW_zx84f",
    "outputId": "82e2c86d-a528-4f8e-8da3-0d5124f34da9"
   },
   "outputs": [
    {
     "name": "stdout",
     "output_type": "stream",
     "text": [
      "Extracted Embedding Vectors have been loaded!\n"
     ]
    }
   ],
   "source": [
    "#Loading the embedding vectors that are extracted and saved\n",
    "\n",
    "EmbData = np.load('Celebrity-embeddings.npz')\n",
    "X_train_emb, Y_train, X_val_emb, Y_val = EmbData['arr_0'],EmbData['arr_1'],EmbData['arr_2'],EmbData['arr_3']\n",
    "print('Extracted Embedding Vectors have been loaded!')"
   ]
  },
  {
   "cell_type": "markdown",
   "id": "38aeb320",
   "metadata": {
    "id": "38aeb320"
   },
   "source": [
    "<a id=section502></a>\n",
    "### 5.2 Preprocessing: Normalizing and Label Encoding"
   ]
  },
  {
   "cell_type": "code",
   "execution_count": 22,
   "id": "NG02TeBzUhJG",
   "metadata": {
    "id": "NG02TeBzUhJG"
   },
   "outputs": [],
   "source": [
    "# Normalizing input X vectors \n",
    "Norm = Normalizer()                           # Initializing Normalizer for X\n",
    "X_train_final = Norm.transform(X_train_emb)   # Transforming X_train embeddings\n",
    "X_val_final = Norm.transform(X_val_emb)       # Transforming X_val embeddings\n",
    "\n",
    "\n",
    "\n",
    "#Label_Encoding Y labels\n",
    "labenc = LabelEncoder()                       # Initializing Label Encoder for Y\n",
    "labenc.fit(Y_train)                           # Fitting the Y_train values\n",
    "Y_train_final = labenc.transform(Y_train)     # Label Encoding Y_train\n",
    "Y_val_final = labenc.transform(Y_val)         # Label Encoding Y_val"
   ]
  },
  {
   "cell_type": "markdown",
   "id": "44fcb4bf",
   "metadata": {
    "id": "44fcb4bf"
   },
   "source": [
    "<a id=section503></a>\n",
    "### 5.3 Predictions with SVClassifier"
   ]
  },
  {
   "cell_type": "code",
   "execution_count": 23,
   "id": "6df5c9aa",
   "metadata": {
    "id": "6df5c9aa"
   },
   "outputs": [],
   "source": [
    "# Predictions ML Models\n",
    "\n",
    "ML_model = SVC(kernel='linear', probability=True)      # Initializing SVClassifier with Linear Kernel\n",
    "ML_model.fit(X_train_final,Y_train_final)              # Fitting the model with Train data\n",
    "Y_train_pred = ML_model.predict(X_train_final)         # Predictions on X_train\n",
    "Y_val_pred = ML_model.predict(X_val_final)             # Predictions on X_val\n"
   ]
  },
  {
   "cell_type": "markdown",
   "id": "c4e15e3b",
   "metadata": {
    "id": "c4e15e3b"
   },
   "source": [
    "<a id=section504></a>\n",
    "### 5.4 Metrics"
   ]
  },
  {
   "cell_type": "code",
   "execution_count": 24,
   "id": "TCdSbN95uTaj",
   "metadata": {
    "colab": {
     "base_uri": "https://localhost:8080/"
    },
    "id": "TCdSbN95uTaj",
    "outputId": "c6c27000-2fa4-46e7-e76f-a0e78704093f"
   },
   "outputs": [
    {
     "name": "stdout",
     "output_type": "stream",
     "text": [
      "Train Accuracy :  0.996996996996997\n",
      "Val Accuracy :  1.0\n"
     ]
    }
   ],
   "source": [
    "train_acc = accuracy_score(Y_train_pred,Y_train_final) # Accuracy of train predictions\n",
    "val_acc = accuracy_score(Y_val_pred,Y_val_final)       # Accuracy of val predictions\n",
    "\n",
    "print('Train Accuracy : ', train_acc)\n",
    "print('Val Accuracy : ', val_acc )"
   ]
  },
  {
   "cell_type": "markdown",
   "id": "mcaRc3omyio8",
   "metadata": {
    "id": "mcaRc3omyio8"
   },
   "source": [
    "<a id=section6></a>\n",
    "## 6. Predictions on Test Data\n",
    "\n",
    "<a id=section601></a>\n",
    "### 6.1 Preparation and Input of test images to trained model"
   ]
  },
  {
   "cell_type": "code",
   "execution_count": 27,
   "id": "b49faed3",
   "metadata": {
    "id": "b49faed3"
   },
   "outputs": [],
   "source": [
    "\n",
    "preds=[]                                                     # List of holding the predictions \n",
    "preds4sub =[]\n",
    "for i in range(1,23):                                        # For loop to iterate over all the images in ascending order\n",
    "    testimgpath = wkdir + \"/\" + 'test' + \"/\" + 'test' + \"/\" + str(i) +'.jpg'\n",
    "    testface = extract_image_face(testimgpath)               # Extracting the face of each image with above written function\n",
    "    testemb = extract_face_embedding(testface,facenet_model) # Extracting the Embedding vector from image face with above written function\n",
    "    testemb = np.asarray(testemb).reshape(1,-1)              # Converting embedding to array. \n",
    "    #Reshaping the vector such that single image embedding input is compatible to Normalizer, which was used in train data\n",
    "    \n",
    "    testnorm = Norm.transform(testemb)                       # Normalizing the vector\n",
    "    testpred = ML_model.predict(testnorm)                    # Prediction on the vector with ML Model\n",
    "    testpredprob = ML_model.predict_proba(testnorm)          # Logging prediction probability \n",
    "    indx = testpred[0]                                       # Creating index from 1st(top) prediction of an image \n",
    "    clproba = testpredprob[0,indx]*100                       # Confidence of the particular image converted to percentage\n",
    "    \n",
    "    \n",
    "    testpredlab = labenc.inverse_transform(testpred)         # Inverse Transforming the prediction from the label encoder \n",
    "    \n",
    "    \n",
    "    if (clproba<=40.0):                                      # Confidence threshold level\n",
    "        testpredlab = 'Unidentified'                         # If <40 then, mark the person as unidentified else do nothing\n",
    "    \n",
    "    #print(testpredlab)\n",
    "    \n",
    "    #Converting the label from list to string\n",
    "    testpredlab_string = ''                                     # An empty string for holding the prediction label\n",
    "    for ele in testpredlab:                                     # Iterating over each letter\n",
    "        testpredlab_string += ele                               # Assigning the letter to string holder created\n",
    "\n",
    "    #print(predlab_string)\n",
    "\n",
    "  \n",
    "    b = [i,testpredlab_string,clproba]                       # Creating a list with input image, output prediction and confidence\n",
    "    preds.append(b)                                          # Appending the above list to main predictions list\n",
    "    \n",
    "    s = [i,testpredlab_string]\n",
    "    preds4sub.append(s)\n",
    "\n",
    "df = pd.DataFrame(preds,columns=['image_name','prediction','confidence'])   # Dataframe for analysis\n",
    "\n",
    "Submission = pd.DataFrame(preds4sub,columns=['image_name','prediction'])    # Dataframe for Submission\n"
   ]
  },
  {
   "cell_type": "code",
   "execution_count": 28,
   "id": "Y_-www2weV-0",
   "metadata": {
    "colab": {
     "base_uri": "https://localhost:8080/",
     "height": 718
    },
    "id": "Y_-www2weV-0",
    "outputId": "784ad1f8-207c-437d-e735-290d8de03f0e"
   },
   "outputs": [
    {
     "data": {
      "text/html": [
       "\n",
       "  <div id=\"df-7e9e8059-75bc-4257-ab00-fc8e0fcbbfe6\">\n",
       "    <div class=\"colab-df-container\">\n",
       "      <div>\n",
       "<style scoped>\n",
       "    .dataframe tbody tr th:only-of-type {\n",
       "        vertical-align: middle;\n",
       "    }\n",
       "\n",
       "    .dataframe tbody tr th {\n",
       "        vertical-align: top;\n",
       "    }\n",
       "\n",
       "    .dataframe thead th {\n",
       "        text-align: right;\n",
       "    }\n",
       "</style>\n",
       "<table border=\"1\" class=\"dataframe\">\n",
       "  <thead>\n",
       "    <tr style=\"text-align: right;\">\n",
       "      <th></th>\n",
       "      <th>image_name</th>\n",
       "      <th>prediction</th>\n",
       "      <th>confidence</th>\n",
       "    </tr>\n",
       "  </thead>\n",
       "  <tbody>\n",
       "    <tr>\n",
       "      <th>0</th>\n",
       "      <td>1</td>\n",
       "      <td>Angelina_Jolie</td>\n",
       "      <td>72.450918</td>\n",
       "    </tr>\n",
       "    <tr>\n",
       "      <th>1</th>\n",
       "      <td>2</td>\n",
       "      <td>Arnold_Schwarzenegger</td>\n",
       "      <td>79.647765</td>\n",
       "    </tr>\n",
       "    <tr>\n",
       "      <th>2</th>\n",
       "      <td>3</td>\n",
       "      <td>Atal_Bihari_Vajpayee</td>\n",
       "      <td>65.872975</td>\n",
       "    </tr>\n",
       "    <tr>\n",
       "      <th>3</th>\n",
       "      <td>4</td>\n",
       "      <td>Bill_Clinton</td>\n",
       "      <td>70.356050</td>\n",
       "    </tr>\n",
       "    <tr>\n",
       "      <th>4</th>\n",
       "      <td>5</td>\n",
       "      <td>Bill_Gates</td>\n",
       "      <td>56.024560</td>\n",
       "    </tr>\n",
       "    <tr>\n",
       "      <th>5</th>\n",
       "      <td>6</td>\n",
       "      <td>Unidentified</td>\n",
       "      <td>29.534257</td>\n",
       "    </tr>\n",
       "    <tr>\n",
       "      <th>6</th>\n",
       "      <td>7</td>\n",
       "      <td>David_Beckham</td>\n",
       "      <td>60.482648</td>\n",
       "    </tr>\n",
       "    <tr>\n",
       "      <th>7</th>\n",
       "      <td>8</td>\n",
       "      <td>George_W_Bush</td>\n",
       "      <td>81.868199</td>\n",
       "    </tr>\n",
       "    <tr>\n",
       "      <th>8</th>\n",
       "      <td>9</td>\n",
       "      <td>Unidentified</td>\n",
       "      <td>19.046223</td>\n",
       "    </tr>\n",
       "    <tr>\n",
       "      <th>9</th>\n",
       "      <td>10</td>\n",
       "      <td>Unidentified</td>\n",
       "      <td>21.334583</td>\n",
       "    </tr>\n",
       "    <tr>\n",
       "      <th>10</th>\n",
       "      <td>11</td>\n",
       "      <td>Jennifer_Aniston</td>\n",
       "      <td>79.268473</td>\n",
       "    </tr>\n",
       "    <tr>\n",
       "      <th>11</th>\n",
       "      <td>12</td>\n",
       "      <td>Jennifer_Lopez</td>\n",
       "      <td>42.269936</td>\n",
       "    </tr>\n",
       "    <tr>\n",
       "      <th>12</th>\n",
       "      <td>13</td>\n",
       "      <td>Unidentified</td>\n",
       "      <td>25.300140</td>\n",
       "    </tr>\n",
       "    <tr>\n",
       "      <th>13</th>\n",
       "      <td>14</td>\n",
       "      <td>Unidentified</td>\n",
       "      <td>20.364151</td>\n",
       "    </tr>\n",
       "    <tr>\n",
       "      <th>14</th>\n",
       "      <td>15</td>\n",
       "      <td>Unidentified</td>\n",
       "      <td>11.741592</td>\n",
       "    </tr>\n",
       "    <tr>\n",
       "      <th>15</th>\n",
       "      <td>16</td>\n",
       "      <td>Naomi_Watts</td>\n",
       "      <td>73.264439</td>\n",
       "    </tr>\n",
       "    <tr>\n",
       "      <th>16</th>\n",
       "      <td>17</td>\n",
       "      <td>Unidentified</td>\n",
       "      <td>19.932243</td>\n",
       "    </tr>\n",
       "    <tr>\n",
       "      <th>17</th>\n",
       "      <td>18</td>\n",
       "      <td>Unidentified</td>\n",
       "      <td>19.385455</td>\n",
       "    </tr>\n",
       "    <tr>\n",
       "      <th>18</th>\n",
       "      <td>19</td>\n",
       "      <td>Serena_Williams</td>\n",
       "      <td>83.486789</td>\n",
       "    </tr>\n",
       "    <tr>\n",
       "      <th>19</th>\n",
       "      <td>20</td>\n",
       "      <td>Tiger_Woods</td>\n",
       "      <td>54.158455</td>\n",
       "    </tr>\n",
       "    <tr>\n",
       "      <th>20</th>\n",
       "      <td>21</td>\n",
       "      <td>Vladimir_Putin</td>\n",
       "      <td>81.697432</td>\n",
       "    </tr>\n",
       "    <tr>\n",
       "      <th>21</th>\n",
       "      <td>22</td>\n",
       "      <td>Winona_Ryder</td>\n",
       "      <td>71.133164</td>\n",
       "    </tr>\n",
       "  </tbody>\n",
       "</table>\n",
       "</div>\n",
       "      <button class=\"colab-df-convert\" onclick=\"convertToInteractive('df-7e9e8059-75bc-4257-ab00-fc8e0fcbbfe6')\"\n",
       "              title=\"Convert this dataframe to an interactive table.\"\n",
       "              style=\"display:none;\">\n",
       "        \n",
       "  <svg xmlns=\"http://www.w3.org/2000/svg\" height=\"24px\"viewBox=\"0 0 24 24\"\n",
       "       width=\"24px\">\n",
       "    <path d=\"M0 0h24v24H0V0z\" fill=\"none\"/>\n",
       "    <path d=\"M18.56 5.44l.94 2.06.94-2.06 2.06-.94-2.06-.94-.94-2.06-.94 2.06-2.06.94zm-11 1L8.5 8.5l.94-2.06 2.06-.94-2.06-.94L8.5 2.5l-.94 2.06-2.06.94zm10 10l.94 2.06.94-2.06 2.06-.94-2.06-.94-.94-2.06-.94 2.06-2.06.94z\"/><path d=\"M17.41 7.96l-1.37-1.37c-.4-.4-.92-.59-1.43-.59-.52 0-1.04.2-1.43.59L10.3 9.45l-7.72 7.72c-.78.78-.78 2.05 0 2.83L4 21.41c.39.39.9.59 1.41.59.51 0 1.02-.2 1.41-.59l7.78-7.78 2.81-2.81c.8-.78.8-2.07 0-2.86zM5.41 20L4 18.59l7.72-7.72 1.47 1.35L5.41 20z\"/>\n",
       "  </svg>\n",
       "      </button>\n",
       "      \n",
       "  <style>\n",
       "    .colab-df-container {\n",
       "      display:flex;\n",
       "      flex-wrap:wrap;\n",
       "      gap: 12px;\n",
       "    }\n",
       "\n",
       "    .colab-df-convert {\n",
       "      background-color: #E8F0FE;\n",
       "      border: none;\n",
       "      border-radius: 50%;\n",
       "      cursor: pointer;\n",
       "      display: none;\n",
       "      fill: #1967D2;\n",
       "      height: 32px;\n",
       "      padding: 0 0 0 0;\n",
       "      width: 32px;\n",
       "    }\n",
       "\n",
       "    .colab-df-convert:hover {\n",
       "      background-color: #E2EBFA;\n",
       "      box-shadow: 0px 1px 2px rgba(60, 64, 67, 0.3), 0px 1px 3px 1px rgba(60, 64, 67, 0.15);\n",
       "      fill: #174EA6;\n",
       "    }\n",
       "\n",
       "    [theme=dark] .colab-df-convert {\n",
       "      background-color: #3B4455;\n",
       "      fill: #D2E3FC;\n",
       "    }\n",
       "\n",
       "    [theme=dark] .colab-df-convert:hover {\n",
       "      background-color: #434B5C;\n",
       "      box-shadow: 0px 1px 3px 1px rgba(0, 0, 0, 0.15);\n",
       "      filter: drop-shadow(0px 1px 2px rgba(0, 0, 0, 0.3));\n",
       "      fill: #FFFFFF;\n",
       "    }\n",
       "  </style>\n",
       "\n",
       "      <script>\n",
       "        const buttonEl =\n",
       "          document.querySelector('#df-7e9e8059-75bc-4257-ab00-fc8e0fcbbfe6 button.colab-df-convert');\n",
       "        buttonEl.style.display =\n",
       "          google.colab.kernel.accessAllowed ? 'block' : 'none';\n",
       "\n",
       "        async function convertToInteractive(key) {\n",
       "          const element = document.querySelector('#df-7e9e8059-75bc-4257-ab00-fc8e0fcbbfe6');\n",
       "          const dataTable =\n",
       "            await google.colab.kernel.invokeFunction('convertToInteractive',\n",
       "                                                     [key], {});\n",
       "          if (!dataTable) return;\n",
       "\n",
       "          const docLinkHtml = 'Like what you see? Visit the ' +\n",
       "            '<a target=\"_blank\" href=https://colab.research.google.com/notebooks/data_table.ipynb>data table notebook</a>'\n",
       "            + ' to learn more about interactive tables.';\n",
       "          element.innerHTML = '';\n",
       "          dataTable['output_type'] = 'display_data';\n",
       "          await google.colab.output.renderOutput(dataTable, element);\n",
       "          const docLink = document.createElement('div');\n",
       "          docLink.innerHTML = docLinkHtml;\n",
       "          element.appendChild(docLink);\n",
       "        }\n",
       "      </script>\n",
       "    </div>\n",
       "  </div>\n",
       "  "
      ],
      "text/plain": [
       "    image_name             prediction  confidence\n",
       "0            1         Angelina_Jolie   72.450918\n",
       "1            2  Arnold_Schwarzenegger   79.647765\n",
       "2            3   Atal_Bihari_Vajpayee   65.872975\n",
       "3            4           Bill_Clinton   70.356050\n",
       "4            5             Bill_Gates   56.024560\n",
       "5            6           Unidentified   29.534257\n",
       "6            7          David_Beckham   60.482648\n",
       "7            8          George_W_Bush   81.868199\n",
       "8            9           Unidentified   19.046223\n",
       "9           10           Unidentified   21.334583\n",
       "10          11       Jennifer_Aniston   79.268473\n",
       "11          12         Jennifer_Lopez   42.269936\n",
       "12          13           Unidentified   25.300140\n",
       "13          14           Unidentified   20.364151\n",
       "14          15           Unidentified   11.741592\n",
       "15          16            Naomi_Watts   73.264439\n",
       "16          17           Unidentified   19.932243\n",
       "17          18           Unidentified   19.385455\n",
       "18          19        Serena_Williams   83.486789\n",
       "19          20            Tiger_Woods   54.158455\n",
       "20          21         Vladimir_Putin   81.697432\n",
       "21          22           Winona_Ryder   71.133164"
      ]
     },
     "execution_count": 28,
     "metadata": {},
     "output_type": "execute_result"
    }
   ],
   "source": [
    "df"
   ]
  },
  {
   "cell_type": "markdown",
   "id": "aace1d85",
   "metadata": {
    "id": "aace1d85"
   },
   "source": [
    "<a id=section602></a>\n",
    "### 6.2 Submission File"
   ]
  },
  {
   "cell_type": "code",
   "execution_count": 29,
   "id": "9qYYwII4Rwud",
   "metadata": {
    "id": "9qYYwII4Rwud"
   },
   "outputs": [],
   "source": [
    "Submission.to_csv('Final_Submission.csv', index=False, header=False)"
   ]
  },
  {
   "cell_type": "code",
   "execution_count": 30,
   "id": "gV2YHoocaT5d",
   "metadata": {
    "colab": {
     "base_uri": "https://localhost:8080/",
     "height": 718
    },
    "id": "gV2YHoocaT5d",
    "outputId": "16d9766f-0391-439e-edbe-632b554d97d1"
   },
   "outputs": [
    {
     "data": {
      "text/html": [
       "\n",
       "  <div id=\"df-13d54c0d-857a-412e-9172-c5fc4dee3364\">\n",
       "    <div class=\"colab-df-container\">\n",
       "      <div>\n",
       "<style scoped>\n",
       "    .dataframe tbody tr th:only-of-type {\n",
       "        vertical-align: middle;\n",
       "    }\n",
       "\n",
       "    .dataframe tbody tr th {\n",
       "        vertical-align: top;\n",
       "    }\n",
       "\n",
       "    .dataframe thead th {\n",
       "        text-align: right;\n",
       "    }\n",
       "</style>\n",
       "<table border=\"1\" class=\"dataframe\">\n",
       "  <thead>\n",
       "    <tr style=\"text-align: right;\">\n",
       "      <th></th>\n",
       "      <th>image_name</th>\n",
       "      <th>prediction</th>\n",
       "    </tr>\n",
       "  </thead>\n",
       "  <tbody>\n",
       "    <tr>\n",
       "      <th>0</th>\n",
       "      <td>1</td>\n",
       "      <td>Angelina_Jolie</td>\n",
       "    </tr>\n",
       "    <tr>\n",
       "      <th>1</th>\n",
       "      <td>2</td>\n",
       "      <td>Arnold_Schwarzenegger</td>\n",
       "    </tr>\n",
       "    <tr>\n",
       "      <th>2</th>\n",
       "      <td>3</td>\n",
       "      <td>Atal_Bihari_Vajpayee</td>\n",
       "    </tr>\n",
       "    <tr>\n",
       "      <th>3</th>\n",
       "      <td>4</td>\n",
       "      <td>Bill_Clinton</td>\n",
       "    </tr>\n",
       "    <tr>\n",
       "      <th>4</th>\n",
       "      <td>5</td>\n",
       "      <td>Bill_Gates</td>\n",
       "    </tr>\n",
       "    <tr>\n",
       "      <th>5</th>\n",
       "      <td>6</td>\n",
       "      <td>Unidentified</td>\n",
       "    </tr>\n",
       "    <tr>\n",
       "      <th>6</th>\n",
       "      <td>7</td>\n",
       "      <td>David_Beckham</td>\n",
       "    </tr>\n",
       "    <tr>\n",
       "      <th>7</th>\n",
       "      <td>8</td>\n",
       "      <td>George_W_Bush</td>\n",
       "    </tr>\n",
       "    <tr>\n",
       "      <th>8</th>\n",
       "      <td>9</td>\n",
       "      <td>Unidentified</td>\n",
       "    </tr>\n",
       "    <tr>\n",
       "      <th>9</th>\n",
       "      <td>10</td>\n",
       "      <td>Unidentified</td>\n",
       "    </tr>\n",
       "    <tr>\n",
       "      <th>10</th>\n",
       "      <td>11</td>\n",
       "      <td>Jennifer_Aniston</td>\n",
       "    </tr>\n",
       "    <tr>\n",
       "      <th>11</th>\n",
       "      <td>12</td>\n",
       "      <td>Jennifer_Lopez</td>\n",
       "    </tr>\n",
       "    <tr>\n",
       "      <th>12</th>\n",
       "      <td>13</td>\n",
       "      <td>Unidentified</td>\n",
       "    </tr>\n",
       "    <tr>\n",
       "      <th>13</th>\n",
       "      <td>14</td>\n",
       "      <td>Unidentified</td>\n",
       "    </tr>\n",
       "    <tr>\n",
       "      <th>14</th>\n",
       "      <td>15</td>\n",
       "      <td>Unidentified</td>\n",
       "    </tr>\n",
       "    <tr>\n",
       "      <th>15</th>\n",
       "      <td>16</td>\n",
       "      <td>Naomi_Watts</td>\n",
       "    </tr>\n",
       "    <tr>\n",
       "      <th>16</th>\n",
       "      <td>17</td>\n",
       "      <td>Unidentified</td>\n",
       "    </tr>\n",
       "    <tr>\n",
       "      <th>17</th>\n",
       "      <td>18</td>\n",
       "      <td>Unidentified</td>\n",
       "    </tr>\n",
       "    <tr>\n",
       "      <th>18</th>\n",
       "      <td>19</td>\n",
       "      <td>Serena_Williams</td>\n",
       "    </tr>\n",
       "    <tr>\n",
       "      <th>19</th>\n",
       "      <td>20</td>\n",
       "      <td>Tiger_Woods</td>\n",
       "    </tr>\n",
       "    <tr>\n",
       "      <th>20</th>\n",
       "      <td>21</td>\n",
       "      <td>Vladimir_Putin</td>\n",
       "    </tr>\n",
       "    <tr>\n",
       "      <th>21</th>\n",
       "      <td>22</td>\n",
       "      <td>Winona_Ryder</td>\n",
       "    </tr>\n",
       "  </tbody>\n",
       "</table>\n",
       "</div>\n",
       "      <button class=\"colab-df-convert\" onclick=\"convertToInteractive('df-13d54c0d-857a-412e-9172-c5fc4dee3364')\"\n",
       "              title=\"Convert this dataframe to an interactive table.\"\n",
       "              style=\"display:none;\">\n",
       "        \n",
       "  <svg xmlns=\"http://www.w3.org/2000/svg\" height=\"24px\"viewBox=\"0 0 24 24\"\n",
       "       width=\"24px\">\n",
       "    <path d=\"M0 0h24v24H0V0z\" fill=\"none\"/>\n",
       "    <path d=\"M18.56 5.44l.94 2.06.94-2.06 2.06-.94-2.06-.94-.94-2.06-.94 2.06-2.06.94zm-11 1L8.5 8.5l.94-2.06 2.06-.94-2.06-.94L8.5 2.5l-.94 2.06-2.06.94zm10 10l.94 2.06.94-2.06 2.06-.94-2.06-.94-.94-2.06-.94 2.06-2.06.94z\"/><path d=\"M17.41 7.96l-1.37-1.37c-.4-.4-.92-.59-1.43-.59-.52 0-1.04.2-1.43.59L10.3 9.45l-7.72 7.72c-.78.78-.78 2.05 0 2.83L4 21.41c.39.39.9.59 1.41.59.51 0 1.02-.2 1.41-.59l7.78-7.78 2.81-2.81c.8-.78.8-2.07 0-2.86zM5.41 20L4 18.59l7.72-7.72 1.47 1.35L5.41 20z\"/>\n",
       "  </svg>\n",
       "      </button>\n",
       "      \n",
       "  <style>\n",
       "    .colab-df-container {\n",
       "      display:flex;\n",
       "      flex-wrap:wrap;\n",
       "      gap: 12px;\n",
       "    }\n",
       "\n",
       "    .colab-df-convert {\n",
       "      background-color: #E8F0FE;\n",
       "      border: none;\n",
       "      border-radius: 50%;\n",
       "      cursor: pointer;\n",
       "      display: none;\n",
       "      fill: #1967D2;\n",
       "      height: 32px;\n",
       "      padding: 0 0 0 0;\n",
       "      width: 32px;\n",
       "    }\n",
       "\n",
       "    .colab-df-convert:hover {\n",
       "      background-color: #E2EBFA;\n",
       "      box-shadow: 0px 1px 2px rgba(60, 64, 67, 0.3), 0px 1px 3px 1px rgba(60, 64, 67, 0.15);\n",
       "      fill: #174EA6;\n",
       "    }\n",
       "\n",
       "    [theme=dark] .colab-df-convert {\n",
       "      background-color: #3B4455;\n",
       "      fill: #D2E3FC;\n",
       "    }\n",
       "\n",
       "    [theme=dark] .colab-df-convert:hover {\n",
       "      background-color: #434B5C;\n",
       "      box-shadow: 0px 1px 3px 1px rgba(0, 0, 0, 0.15);\n",
       "      filter: drop-shadow(0px 1px 2px rgba(0, 0, 0, 0.3));\n",
       "      fill: #FFFFFF;\n",
       "    }\n",
       "  </style>\n",
       "\n",
       "      <script>\n",
       "        const buttonEl =\n",
       "          document.querySelector('#df-13d54c0d-857a-412e-9172-c5fc4dee3364 button.colab-df-convert');\n",
       "        buttonEl.style.display =\n",
       "          google.colab.kernel.accessAllowed ? 'block' : 'none';\n",
       "\n",
       "        async function convertToInteractive(key) {\n",
       "          const element = document.querySelector('#df-13d54c0d-857a-412e-9172-c5fc4dee3364');\n",
       "          const dataTable =\n",
       "            await google.colab.kernel.invokeFunction('convertToInteractive',\n",
       "                                                     [key], {});\n",
       "          if (!dataTable) return;\n",
       "\n",
       "          const docLinkHtml = 'Like what you see? Visit the ' +\n",
       "            '<a target=\"_blank\" href=https://colab.research.google.com/notebooks/data_table.ipynb>data table notebook</a>'\n",
       "            + ' to learn more about interactive tables.';\n",
       "          element.innerHTML = '';\n",
       "          dataTable['output_type'] = 'display_data';\n",
       "          await google.colab.output.renderOutput(dataTable, element);\n",
       "          const docLink = document.createElement('div');\n",
       "          docLink.innerHTML = docLinkHtml;\n",
       "          element.appendChild(docLink);\n",
       "        }\n",
       "      </script>\n",
       "    </div>\n",
       "  </div>\n",
       "  "
      ],
      "text/plain": [
       "    image_name             prediction\n",
       "0            1         Angelina_Jolie\n",
       "1            2  Arnold_Schwarzenegger\n",
       "2            3   Atal_Bihari_Vajpayee\n",
       "3            4           Bill_Clinton\n",
       "4            5             Bill_Gates\n",
       "5            6           Unidentified\n",
       "6            7          David_Beckham\n",
       "7            8          George_W_Bush\n",
       "8            9           Unidentified\n",
       "9           10           Unidentified\n",
       "10          11       Jennifer_Aniston\n",
       "11          12         Jennifer_Lopez\n",
       "12          13           Unidentified\n",
       "13          14           Unidentified\n",
       "14          15           Unidentified\n",
       "15          16            Naomi_Watts\n",
       "16          17           Unidentified\n",
       "17          18           Unidentified\n",
       "18          19        Serena_Williams\n",
       "19          20            Tiger_Woods\n",
       "20          21         Vladimir_Putin\n",
       "21          22           Winona_Ryder"
      ]
     },
     "execution_count": 30,
     "metadata": {},
     "output_type": "execute_result"
    }
   ],
   "source": [
    "Submission"
   ]
  },
  {
   "cell_type": "markdown",
   "id": "fd2e6a71",
   "metadata": {},
   "source": [
    "<a id=section7></a>\n",
    "## 7. Conclusion"
   ]
  },
  {
   "cell_type": "markdown",
   "id": "4a7a9ade",
   "metadata": {
    "id": "mlUW-_EZmAjC"
   },
   "source": [
    "   By submitting the above predictions, we acheived 95% accuracy on test data with confidence threshold level of 40%. And on the other hand, Val predictions are 100%. From the metrics obtained, It can be concluded that combination o MTCNN, FaceNet Model and Linear SVClassifier is better fit for this data.\n",
    "\n",
    "\n",
    "Although, Many aspects such as standardizing, resizing, normalizing... in handling the data are covered in this project. There is still room for experiments. Hence, Below are some key points to be considered for future improvements.\n",
    "- Data Validation: Remove wrong or duplicate pictures from the folders\n",
    "- Data Augmentation: Apply rotations, flips and shifts to the image before extracting faces.\n",
    "- Models: Experiment with different classifiers to check for better confidences.\n",
    "- Training: Train model with more data periodically for stability.\n",
    "- Validate predictions with different confidence threshold levels."
   ]
  },
  {
   "cell_type": "code",
   "execution_count": null,
   "id": "d8fc48aa",
   "metadata": {},
   "outputs": [],
   "source": []
  }
 ],
 "metadata": {
  "colab": {
   "collapsed_sections": [],
   "name": "Capstone_Project_CV_(1003).ipynb",
   "provenance": []
  },
  "kernelspec": {
   "display_name": "Python 3 (ipykernel)",
   "language": "python",
   "name": "python3"
  },
  "language_info": {
   "codemirror_mode": {
    "name": "ipython",
    "version": 3
   },
   "file_extension": ".py",
   "mimetype": "text/x-python",
   "name": "python",
   "nbconvert_exporter": "python",
   "pygments_lexer": "ipython3",
   "version": "3.9.7"
  }
 },
 "nbformat": 4,
 "nbformat_minor": 5
}
